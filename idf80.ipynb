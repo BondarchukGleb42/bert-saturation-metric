{
 "cells": [
  {
   "cell_type": "markdown",
   "id": "53d36e66",
   "metadata": {},
   "source": [
    "## Кастомная метрика семантической насыщенности текста IDF-80.\n",
    "----------\n",
    "\n",
    "**Краткое содержание:** В рамках поставленной задачи было необходимо разработать метрику для оценки семантической насыщенности текста, в частности отзывов на книги. Для решения задачи был выбран и предобработан датасет. Также была придумана своя кастомная метрика, не основанная на глубоком обучении и предполагающая unsupervised подход, что делает её масштабируемой и работоспособной в условиях отсутствия разметки. "
   ]
  },
  {
   "cell_type": "markdown",
   "id": "d062c552",
   "metadata": {},
   "source": [
    "   "
   ]
  },
  {
   "cell_type": "markdown",
   "id": "241c29a6",
   "metadata": {},
   "source": [
    "### Импорт библиотек и выбор датасета"
   ]
  },
  {
   "cell_type": "code",
   "execution_count": 19,
   "id": "01e27d66",
   "metadata": {},
   "outputs": [],
   "source": [
    "import numpy as np\n",
    "import pandas as pd\n",
    "import matplotlib.pyplot as plt\n",
    "import seaborn as sns\n",
    "import re\n",
    "from collections import Counter\n",
    "\n",
    "import pymorphy2\n",
    "from nltk.corpus import stopwords\n",
    "from nltk.stem import WordNetLemmatizer\n",
    "\n",
    "from tqdm.auto import tqdm\n",
    "tqdm.pandas()"
   ]
  },
  {
   "cell_type": "markdown",
   "id": "9a1374fa",
   "metadata": {},
   "source": [
    "В качестве набора данных был выбран популярный датасет с обзором на книги от Амазона. Его можно и нужно скачать для запуска ноутбука по [ссылке](https://www.kaggle.com/datasets/mohamedbakhet/amazon-books-reviews). Датасет содержит довольно большое количество информации о книге, но нам понадобится только review/summary и review/text - краткий и развёрнутый комментарий."
   ]
  },
  {
   "cell_type": "code",
   "execution_count": 23,
   "id": "1ec8c391",
   "metadata": {},
   "outputs": [],
   "source": [
    "df = pd.read_csv(\"Books_rating.csv\")"
   ]
  },
  {
   "cell_type": "code",
   "execution_count": 24,
   "id": "604cd6b7",
   "metadata": {},
   "outputs": [
    {
     "data": {
      "text/html": [
       "<div>\n",
       "<style scoped>\n",
       "    .dataframe tbody tr th:only-of-type {\n",
       "        vertical-align: middle;\n",
       "    }\n",
       "\n",
       "    .dataframe tbody tr th {\n",
       "        vertical-align: top;\n",
       "    }\n",
       "\n",
       "    .dataframe thead th {\n",
       "        text-align: right;\n",
       "    }\n",
       "</style>\n",
       "<table border=\"1\" class=\"dataframe\">\n",
       "  <thead>\n",
       "    <tr style=\"text-align: right;\">\n",
       "      <th></th>\n",
       "      <th>Id</th>\n",
       "      <th>Title</th>\n",
       "      <th>Price</th>\n",
       "      <th>User_id</th>\n",
       "      <th>profileName</th>\n",
       "      <th>review/helpfulness</th>\n",
       "      <th>review/score</th>\n",
       "      <th>review/time</th>\n",
       "      <th>review/summary</th>\n",
       "      <th>review/text</th>\n",
       "    </tr>\n",
       "  </thead>\n",
       "  <tbody>\n",
       "    <tr>\n",
       "      <th>0</th>\n",
       "      <td>1882931173</td>\n",
       "      <td>Its Only Art If Its Well Hung!</td>\n",
       "      <td>NaN</td>\n",
       "      <td>AVCGYZL8FQQTD</td>\n",
       "      <td>Jim of Oz \"jim-of-oz\"</td>\n",
       "      <td>7/7</td>\n",
       "      <td>4.0</td>\n",
       "      <td>940636800</td>\n",
       "      <td>Nice collection of Julie Strain images</td>\n",
       "      <td>This is only for Julie Strain fans. It's a col...</td>\n",
       "    </tr>\n",
       "    <tr>\n",
       "      <th>1</th>\n",
       "      <td>0826414346</td>\n",
       "      <td>Dr. Seuss: American Icon</td>\n",
       "      <td>NaN</td>\n",
       "      <td>A30TK6U7DNS82R</td>\n",
       "      <td>Kevin Killian</td>\n",
       "      <td>10/10</td>\n",
       "      <td>5.0</td>\n",
       "      <td>1095724800</td>\n",
       "      <td>Really Enjoyed It</td>\n",
       "      <td>I don't care much for Dr. Seuss but after read...</td>\n",
       "    </tr>\n",
       "    <tr>\n",
       "      <th>2</th>\n",
       "      <td>0826414346</td>\n",
       "      <td>Dr. Seuss: American Icon</td>\n",
       "      <td>NaN</td>\n",
       "      <td>A3UH4UZ4RSVO82</td>\n",
       "      <td>John Granger</td>\n",
       "      <td>10/11</td>\n",
       "      <td>5.0</td>\n",
       "      <td>1078790400</td>\n",
       "      <td>Essential for every personal and Public Library</td>\n",
       "      <td>If people become the books they read and if \"t...</td>\n",
       "    </tr>\n",
       "    <tr>\n",
       "      <th>3</th>\n",
       "      <td>0826414346</td>\n",
       "      <td>Dr. Seuss: American Icon</td>\n",
       "      <td>NaN</td>\n",
       "      <td>A2MVUWT453QH61</td>\n",
       "      <td>Roy E. Perry \"amateur philosopher\"</td>\n",
       "      <td>7/7</td>\n",
       "      <td>4.0</td>\n",
       "      <td>1090713600</td>\n",
       "      <td>Phlip Nel gives silly Seuss a serious treatment</td>\n",
       "      <td>Theodore Seuss Geisel (1904-1991), aka &amp;quot;D...</td>\n",
       "    </tr>\n",
       "    <tr>\n",
       "      <th>4</th>\n",
       "      <td>0826414346</td>\n",
       "      <td>Dr. Seuss: American Icon</td>\n",
       "      <td>NaN</td>\n",
       "      <td>A22X4XUPKF66MR</td>\n",
       "      <td>D. H. Richards \"ninthwavestore\"</td>\n",
       "      <td>3/3</td>\n",
       "      <td>4.0</td>\n",
       "      <td>1107993600</td>\n",
       "      <td>Good academic overview</td>\n",
       "      <td>Philip Nel - Dr. Seuss: American IconThis is b...</td>\n",
       "    </tr>\n",
       "  </tbody>\n",
       "</table>\n",
       "</div>"
      ],
      "text/plain": [
       "           Id                           Title  Price         User_id  \\\n",
       "0  1882931173  Its Only Art If Its Well Hung!    NaN   AVCGYZL8FQQTD   \n",
       "1  0826414346        Dr. Seuss: American Icon    NaN  A30TK6U7DNS82R   \n",
       "2  0826414346        Dr. Seuss: American Icon    NaN  A3UH4UZ4RSVO82   \n",
       "3  0826414346        Dr. Seuss: American Icon    NaN  A2MVUWT453QH61   \n",
       "4  0826414346        Dr. Seuss: American Icon    NaN  A22X4XUPKF66MR   \n",
       "\n",
       "                          profileName review/helpfulness  review/score  \\\n",
       "0               Jim of Oz \"jim-of-oz\"                7/7           4.0   \n",
       "1                       Kevin Killian              10/10           5.0   \n",
       "2                        John Granger              10/11           5.0   \n",
       "3  Roy E. Perry \"amateur philosopher\"                7/7           4.0   \n",
       "4     D. H. Richards \"ninthwavestore\"                3/3           4.0   \n",
       "\n",
       "   review/time                                   review/summary  \\\n",
       "0    940636800           Nice collection of Julie Strain images   \n",
       "1   1095724800                                Really Enjoyed It   \n",
       "2   1078790400  Essential for every personal and Public Library   \n",
       "3   1090713600  Phlip Nel gives silly Seuss a serious treatment   \n",
       "4   1107993600                           Good academic overview   \n",
       "\n",
       "                                         review/text  \n",
       "0  This is only for Julie Strain fans. It's a col...  \n",
       "1  I don't care much for Dr. Seuss but after read...  \n",
       "2  If people become the books they read and if \"t...  \n",
       "3  Theodore Seuss Geisel (1904-1991), aka &quot;D...  \n",
       "4  Philip Nel - Dr. Seuss: American IconThis is b...  "
      ]
     },
     "execution_count": 24,
     "metadata": {},
     "output_type": "execute_result"
    }
   ],
   "source": [
    "df.head()"
   ]
  },
  {
   "cell_type": "markdown",
   "id": "6060b316",
   "metadata": {},
   "source": [
    "Оставим только нужные столбцы, удалим дубликаты и пропуски."
   ]
  },
  {
   "cell_type": "code",
   "execution_count": 25,
   "id": "ac051137",
   "metadata": {},
   "outputs": [],
   "source": [
    "df = df[[\"review/summary\", \"review/text\"]]\n",
    "df = df.dropna()\n",
    "df = df.drop_duplicates()"
   ]
  },
  {
   "cell_type": "code",
   "execution_count": 26,
   "id": "e61c99d6",
   "metadata": {},
   "outputs": [
    {
     "data": {
      "text/html": [
       "<div>\n",
       "<style scoped>\n",
       "    .dataframe tbody tr th:only-of-type {\n",
       "        vertical-align: middle;\n",
       "    }\n",
       "\n",
       "    .dataframe tbody tr th {\n",
       "        vertical-align: top;\n",
       "    }\n",
       "\n",
       "    .dataframe thead th {\n",
       "        text-align: right;\n",
       "    }\n",
       "</style>\n",
       "<table border=\"1\" class=\"dataframe\">\n",
       "  <thead>\n",
       "    <tr style=\"text-align: right;\">\n",
       "      <th></th>\n",
       "      <th>review/summary</th>\n",
       "      <th>review/text</th>\n",
       "    </tr>\n",
       "  </thead>\n",
       "  <tbody>\n",
       "    <tr>\n",
       "      <th>0</th>\n",
       "      <td>Nice collection of Julie Strain images</td>\n",
       "      <td>This is only for Julie Strain fans. It's a col...</td>\n",
       "    </tr>\n",
       "    <tr>\n",
       "      <th>1</th>\n",
       "      <td>Really Enjoyed It</td>\n",
       "      <td>I don't care much for Dr. Seuss but after read...</td>\n",
       "    </tr>\n",
       "    <tr>\n",
       "      <th>2</th>\n",
       "      <td>Essential for every personal and Public Library</td>\n",
       "      <td>If people become the books they read and if \"t...</td>\n",
       "    </tr>\n",
       "    <tr>\n",
       "      <th>3</th>\n",
       "      <td>Phlip Nel gives silly Seuss a serious treatment</td>\n",
       "      <td>Theodore Seuss Geisel (1904-1991), aka &amp;quot;D...</td>\n",
       "    </tr>\n",
       "    <tr>\n",
       "      <th>4</th>\n",
       "      <td>Good academic overview</td>\n",
       "      <td>Philip Nel - Dr. Seuss: American IconThis is b...</td>\n",
       "    </tr>\n",
       "  </tbody>\n",
       "</table>\n",
       "</div>"
      ],
      "text/plain": [
       "                                    review/summary  \\\n",
       "0           Nice collection of Julie Strain images   \n",
       "1                                Really Enjoyed It   \n",
       "2  Essential for every personal and Public Library   \n",
       "3  Phlip Nel gives silly Seuss a serious treatment   \n",
       "4                           Good academic overview   \n",
       "\n",
       "                                         review/text  \n",
       "0  This is only for Julie Strain fans. It's a col...  \n",
       "1  I don't care much for Dr. Seuss but after read...  \n",
       "2  If people become the books they read and if \"t...  \n",
       "3  Theodore Seuss Geisel (1904-1991), aka &quot;D...  \n",
       "4  Philip Nel - Dr. Seuss: American IconThis is b...  "
      ]
     },
     "execution_count": 26,
     "metadata": {},
     "output_type": "execute_result"
    }
   ],
   "source": [
    "df.head()"
   ]
  },
  {
   "cell_type": "code",
   "execution_count": 27,
   "id": "18cd6560",
   "metadata": {},
   "outputs": [
    {
     "name": "stdout",
     "output_type": "stream",
     "text": [
      "размер датасета: 2067956\n"
     ]
    }
   ],
   "source": [
    "print(\"размер датасета:\", len(df))"
   ]
  },
  {
   "cell_type": "markdown",
   "id": "9fcabf2a",
   "metadata": {},
   "source": [
    "   "
   ]
  },
  {
   "cell_type": "markdown",
   "id": "4475fa2e",
   "metadata": {},
   "source": [
    "### Идея подхода для оценки насыщенности текста."
   ]
  },
  {
   "cell_type": "markdown",
   "id": "92f35000",
   "metadata": {},
   "source": [
    "Метрика по-своей сути не должна учитывать размер текста, а должна основываться на его семантическом содержании. Также модель для оценки содержательности отзыва должна быть unsupervised learning, в случае, если у нас нет разметки с содержательностью комментария (т.к. часто это довольно проблематично оценить). Ну и метрика должна быть интерпретируемой, соотвественно, использование подхода \"черного ящика\" - не лучшая идея.  "
   ]
  },
  {
   "cell_type": "markdown",
   "id": "c4332a1c",
   "metadata": {},
   "source": [
    "В используемом наборе данных мы имеем полный и краткий текст комментария. Будем считать, что краткий комментарий всегда является семантически более насыщенным, чем полный (выше уровень смысловой нагрузки на одно слово). Будем использовать это для валидации: значение нашей метрики для насыщенного отзыва всегда должно быть выше, чем для развернутого."
   ]
  },
  {
   "cell_type": "markdown",
   "id": "12ba3f19",
   "metadata": {},
   "source": [
    "Также довольно очевидно, что распространённые слова редко несут высокую семантическую нагрузку. Высокое значение метрики должно быть у предложений, в которых мало распространённых стилистически нейтральных и бесполезных слов. Самая очевидная гипотеза в таком случае - использование tf-idf: отношение частоты встречи слова в тексте, умноженное на логорифм частоты встречи слова во всём корпусе. Скорее всего, в текстовом документе с высокой семантической насыщенностью, частоты слов должно быть примерно одинаковы: каждое слово будет иметь одинаковую статистическую характеристику. Большое количество слов с низким tf-idf говорит о плохой интерпретируемости текста, а большое количество слов с высоким tf-idf говорит о наличие шума, не несущего уникальной информации в отзыве."
   ]
  },
  {
   "cell_type": "markdown",
   "id": "8b3d1896",
   "metadata": {},
   "source": [
    "Отклонение частот слов в предложении будет считать как отношение 80% перцентили распределения частот в предложении к медиане частот в предложении. Это более интерпретируемо чем, например, средне-квадратичное отклонение, а также позволяет сделать нам фиксированный диапазон метрики от 0 до 100%."
   ]
  },
  {
   "cell_type": "markdown",
   "id": "dc974e40",
   "metadata": {},
   "source": [
    "    "
   ]
  },
  {
   "cell_type": "markdown",
   "id": "fd7ec984",
   "metadata": {},
   "source": [
    "### Реализация"
   ]
  },
  {
   "cell_type": "markdown",
   "id": "90eb0219",
   "metadata": {},
   "source": [
    "Для начала лемматизируем текст и удалим стоп-слова. Обучим корпус tf-idf и на коротких комментариях, и на полных."
   ]
  },
  {
   "cell_type": "code",
   "execution_count": 28,
   "id": "b471b6c3",
   "metadata": {},
   "outputs": [],
   "source": [
    "lemmatizer = WordNetLemmatizer()\n",
    "lemmizer_func = lambda x: lemmatizer.lemmatize(x)\n",
    "\n",
    "stopwords = stopwords.words(\"english\")"
   ]
  },
  {
   "cell_type": "code",
   "execution_count": 29,
   "id": "22652e9b",
   "metadata": {},
   "outputs": [],
   "source": [
    "def text_normalizing(texts, lemmatizer, stopwords=[]):\n",
    "    \"\"\"\n",
    "    Function for cleaning and lemmatization texts.\n",
    "    Args:\n",
    "        -texts: collection of texts;\n",
    "        -lemmatizer: callable object, which input text and return lemmatized text;\n",
    "        -stopwords: list of words for dropping.\n",
    "    Return normalized texts. \n",
    "    \"\"\"\n",
    "    texts = pd.Series(texts).astype(str)\n",
    "    texts = texts.map(lambda x: x.replace(\"\\n\", \" \"))\n",
    "    texts = texts.map(lambda x: re.sub('[0-9:,\\.!?()-/+*;•$&%]', '', x.lower()))\n",
    "    texts = texts.progress_map(lambda x: \" \".join([lemmatizer(word) for word in x.split() if word not in stopwords]))\n",
    "    return texts"
   ]
  },
  {
   "cell_type": "code",
   "execution_count": 30,
   "id": "9fcad91f",
   "metadata": {},
   "outputs": [
    {
     "data": {
      "application/vnd.jupyter.widget-view+json": {
       "model_id": "7e544e78bb9e4509b9770abad2eda88b",
       "version_major": 2,
       "version_minor": 0
      },
      "text/plain": [
       "  0%|          | 0/4135912 [00:00<?, ?it/s]"
      ]
     },
     "metadata": {},
     "output_type": "display_data"
    }
   ],
   "source": [
    "corpus = text_normalizing(pd.concat([df[\"review/text\"], df[\"review/summary\"]], axis=0), lemmizer_func, stopwords)"
   ]
  },
  {
   "cell_type": "markdown",
   "id": "b5dd6ee0",
   "metadata": {},
   "source": [
    "Обучим tf-idf векторизатор."
   ]
  },
  {
   "cell_type": "code",
   "execution_count": 31,
   "id": "1f3ac6ff",
   "metadata": {},
   "outputs": [],
   "source": [
    "from sklearn.feature_extraction.text import TfidfVectorizer\n",
    "\n",
    "vectorizer = TfidfVectorizer(use_idf=True).fit(corpus)"
   ]
  },
  {
   "cell_type": "code",
   "execution_count": 43,
   "id": "ce52e33a",
   "metadata": {},
   "outputs": [],
   "source": [
    "def idf80_saturation(vector_text):\n",
    "    v = vector_text.toarray()[0]\n",
    "    v = v[v != 0]\n",
    "    if len(v) == 0:\n",
    "        return 1\n",
    "    return np.percentile(v, 0.8) / np.median(v)"
   ]
  },
  {
   "cell_type": "markdown",
   "id": "80605acb",
   "metadata": {},
   "source": [
    "  "
   ]
  },
  {
   "cell_type": "markdown",
   "id": "1b680956",
   "metadata": {},
   "source": [
    "### Оценим результаты работы"
   ]
  },
  {
   "cell_type": "markdown",
   "id": "09d51385",
   "metadata": {},
   "source": [
    "Будем тестировать на первых 40к сэмплах, чтобы сэкономить время."
   ]
  },
  {
   "cell_type": "code",
   "execution_count": 33,
   "id": "047458d1",
   "metadata": {},
   "outputs": [
    {
     "data": {
      "application/vnd.jupyter.widget-view+json": {
       "model_id": "eba014988da94b228205c77b5ce0a533",
       "version_major": 2,
       "version_minor": 0
      },
      "text/plain": [
       "  0%|          | 0/40000 [00:00<?, ?it/s]"
      ]
     },
     "metadata": {},
     "output_type": "display_data"
    },
    {
     "data": {
      "application/vnd.jupyter.widget-view+json": {
       "model_id": "0ee312de0ca44b1b9a52f8970dc40480",
       "version_major": 2,
       "version_minor": 0
      },
      "text/plain": [
       "  0%|          | 0/40000 [00:00<?, ?it/s]"
      ]
     },
     "metadata": {},
     "output_type": "display_data"
    }
   ],
   "source": [
    "df = df.iloc[:40000]\n",
    "df[\"review/text\"] = text_normalizing(df[\"review/text\"], lemmizer_func, stopwords)\n",
    "df[\"review/summary\"] = text_normalizing(df[\"review/summary\"], lemmizer_func, stopwords)\n",
    "\n",
    "vector_text = vectorizer.transform(df[\"review/text\"])\n",
    "vector_small_text = vectorizer.transform(df[\"review/summary\"])"
   ]
  },
  {
   "cell_type": "markdown",
   "id": "b4ec9f0e",
   "metadata": {},
   "source": [
    "На это уйдёт какое-то время."
   ]
  },
  {
   "cell_type": "code",
   "execution_count": 47,
   "id": "c3e155aa",
   "metadata": {},
   "outputs": [
    {
     "data": {
      "application/vnd.jupyter.widget-view+json": {
       "model_id": "35b72c01bb57435193d7e8e9ebb7b0f6",
       "version_major": 2,
       "version_minor": 0
      },
      "text/plain": [
       "  0%|          | 0/40000 [00:00<?, ?it/s]"
      ]
     },
     "metadata": {},
     "output_type": "display_data"
    }
   ],
   "source": [
    "idf80_full_texts = []\n",
    "idf80_small_texts = []\n",
    "\n",
    "for i in tqdm(range(0, len(df))):\n",
    "    idf80_full_texts.append(idf80_saturation(vector_text[i]))\n",
    "    idf80_small_texts.append(idf80_saturation(vector_small_text[i]))"
   ]
  },
  {
   "cell_type": "markdown",
   "id": "da172a88",
   "metadata": {},
   "source": [
    "Посмотрим, как выглядит распределение семантической насыщенности полных описаний."
   ]
  },
  {
   "cell_type": "code",
   "execution_count": 48,
   "id": "fe924cba",
   "metadata": {
    "scrolled": false
   },
   "outputs": [
    {
     "data": {
      "text/plain": [
       "<Axes: ylabel='Count'>"
      ]
     },
     "execution_count": 48,
     "metadata": {},
     "output_type": "execute_result"
    },
    {
     "data": {
      "image/png": "[encoded data removed]",
      "text/plain": [
       "<Figure size 640x480 with 1 Axes>"
      ]
     },
     "metadata": {},
     "output_type": "display_data"
    }
   ],
   "source": [
    "sns.histplot(idf80_full_texts)"
   ]
  },
  {
   "cell_type": "markdown",
   "id": "a7b06ae5",
   "metadata": {},
   "source": [
    "Метрика для краткого отзыва в среднем в два раза больше, чем для полного. Это может говорить о том, что метрика в целом работает адекватно и, главное, интерпретируемо."
   ]
  },
  {
   "cell_type": "code",
   "execution_count": 51,
   "id": "2ac6bd65",
   "metadata": {},
   "outputs": [
    {
     "data": {
      "text/plain": [
       "<Axes: ylabel='Count'>"
      ]
     },
     "execution_count": 51,
     "metadata": {},
     "output_type": "execute_result"
    },
    {
     "data": {
      "image/png": "[encoded data removed]",
      "text/plain": [
       "<Figure size 640x480 with 1 Axes>"
      ]
     },
     "metadata": {},
     "output_type": "display_data"
    }
   ],
   "source": [
    "sns.histplot(np.array(idf80_small_texts) / np.array(idf80_full_texts))"
   ]
  },
  {
   "cell_type": "markdown",
   "id": "ac814f02",
   "metadata": {},
   "source": [
    "  "
   ]
  },
  {
   "cell_type": "markdown",
   "id": "2d8bfe70",
   "metadata": {},
   "source": [
    "### Как можно улучшить?"
   ]
  },
  {
   "cell_type": "markdown",
   "id": "e05558bc",
   "metadata": {},
   "source": [
    "Основным недостатком использования глубокого обучения стало бы понижение интерпретируемости метрики в замен на более высокой качество и гибкость. Но интерпретируемость можно получить и с методами глубокого обучения: например, обучить линейный attention-слой оценивать вес каждого слова, а затем использовать метод, применённый к tf-idf частотам в ноутбуке. Благодаря такому подходу мы сможем понимать, какие слова имеют большую насыщенность, а какие меньшую."
   ]
  },
  {
   "cell_type": "code",
   "execution_count": null,
   "id": "fad8c03d",
   "metadata": {},
   "outputs": [],
   "source": []
  }
 ],
 "metadata": {
  "kernelspec": {
   "display_name": "Python 3 (ipykernel)",
   "language": "python",
   "name": "python3"
  },
  "language_info": {
   "codemirror_mode": {
    "name": "ipython",
    "version": 3
   },
   "file_extension": ".py",
   "mimetype": "text/x-python",
   "name": "python",
   "nbconvert_exporter": "python",
   "pygments_lexer": "ipython3",
   "version": "3.9.18"
  }
 },
 "nbformat": 4,
 "nbformat_minor": 5
}
